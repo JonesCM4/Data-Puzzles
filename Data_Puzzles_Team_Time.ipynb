{
  "nbformat": 4,
  "nbformat_minor": 0,
  "metadata": {
    "colab": {
      "provenance": [],
      "include_colab_link": true
    },
    "kernelspec": {
      "name": "python3",
      "display_name": "Python 3"
    },
    "language_info": {
      "name": "python"
    }
  },
  "cells": [
    {
      "cell_type": "markdown",
      "metadata": {
        "id": "view-in-github",
        "colab_type": "text"
      },
      "source": [
        "<a href=\"https://colab.research.google.com/github/JonesCM4/Data-Puzzles/blob/main/Data_Puzzles_Team_Time.ipynb\" target=\"_parent\"><img src=\"https://colab.research.google.com/assets/colab-badge.svg\" alt=\"Open In Colab\"/></a>"
      ]
    },
    {
      "cell_type": "markdown",
      "source": [
        "# Intro\n",
        "\n",
        "A few friends and I are playing a game at 6pm. I know they often arrive late, and I really don't want to be late.\n",
        "\n",
        "I actually looked at historical data, and found out my friends arrival time can be described as random variable that follows a normal distribution of parameter mean = 'appointment time' amd std_dev = 10 min.\n",
        "\n",
        "I need to set the appointment so that Im at least 99% confident all my friends will be there by 6pm. Can you figure out the latest appointment time that would check that criteria? Thanks!!"
      ],
      "metadata": {
        "id": "z62dKQEo5eEo"
      }
    },
    {
      "cell_type": "code",
      "execution_count": null,
      "metadata": {
        "id": "VJN2jlPR5YLF"
      },
      "outputs": [],
      "source": [
        "game_time = 18 * 60 # 6pm in number of minutes from midnight\n",
        "n_friends = 4\n",
        "std_dev_arrival_time_min = 10\n",
        "# ... and that's all!\n",
        "# right_appointment_time = ?"
      ]
    },
    {
      "cell_type": "code",
      "source": [
        "# CI = m +- cv * (s/n^.5)\n",
        "# use t-table as n is smaller than 30, but sd is known\n",
        "upper = game_time + 5.841 * (std_dev_arrival_time_min/(n_friends**.5))\n",
        "lower = game_time - 5.841 * (std_dev_arrival_time_min/(n_friends**.5))"
      ],
      "metadata": {
        "id": "CaJaMQS7f8GV"
      },
      "execution_count": null,
      "outputs": []
    },
    {
      "cell_type": "code",
      "source": [
        "upper"
      ],
      "metadata": {
        "colab": {
          "base_uri": "https://localhost:8080/"
        },
        "id": "k275KlGugYbW",
        "outputId": "0b2b3f37-f39c-44d3-85c5-9055441fa59c"
      },
      "execution_count": null,
      "outputs": [
        {
          "output_type": "execute_result",
          "data": {
            "text/plain": [
              "1109.205"
            ]
          },
          "metadata": {},
          "execution_count": 18
        }
      ]
    },
    {
      "cell_type": "code",
      "source": [
        "lower"
      ],
      "metadata": {
        "colab": {
          "base_uri": "https://localhost:8080/"
        },
        "id": "UKP8K76IgbBC",
        "outputId": "4b3c6bc7-846e-4078-a7ed-f83825dcf288"
      },
      "execution_count": null,
      "outputs": [
        {
          "output_type": "execute_result",
          "data": {
            "text/plain": [
              "1050.795"
            ]
          },
          "metadata": {},
          "execution_count": 19
        }
      ]
    },
    {
      "cell_type": "code",
      "source": [
        "game_time"
      ],
      "metadata": {
        "colab": {
          "base_uri": "https://localhost:8080/"
        },
        "id": "irhVrDu7gmNj",
        "outputId": "b4487329-b215-4f4a-eba3-1987e8f29ca8"
      },
      "execution_count": null,
      "outputs": [
        {
          "output_type": "execute_result",
          "data": {
            "text/plain": [
              "1080"
            ]
          },
          "metadata": {},
          "execution_count": 20
        }
      ]
    },
    {
      "cell_type": "code",
      "source": [
        "upper - game_time\n",
        "#so we should begin at 5:30pm to be 99% certain that all friends show up at 6"
      ],
      "metadata": {
        "colab": {
          "base_uri": "https://localhost:8080/"
        },
        "id": "oFaupEFYgvTe",
        "outputId": "a106bdd2-e504-4bc5-b8ec-20cbfc4490ec"
      },
      "execution_count": null,
      "outputs": [
        {
          "output_type": "execute_result",
          "data": {
            "text/plain": [
              "29.204999999999927"
            ]
          },
          "metadata": {},
          "execution_count": 22
        }
      ]
    }
  ]
}